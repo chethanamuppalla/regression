{
  "nbformat": 4,
  "nbformat_minor": 0,
  "metadata": {
    "colab": {
      "name": "linear regression",
      "provenance": [],
      "collapsed_sections": [],
      "authorship_tag": "ABX9TyOUjr+aax8XAFVSPGgJrjTM",
      "include_colab_link": true
    },
    "kernelspec": {
      "name": "python3",
      "display_name": "Python 3"
    }
  },
  "cells": [
    {
      "cell_type": "markdown",
      "metadata": {
        "id": "view-in-github",
        "colab_type": "text"
      },
      "source": [
        "<a href=\"https://colab.research.google.com/github/chethanamuppalla/regression/blob/main/linear_regression.ipynb\" target=\"_parent\"><img src=\"https://colab.research.google.com/assets/colab-badge.svg\" alt=\"Open In Colab\"/></a>"
      ]
    },
    {
      "cell_type": "code",
      "metadata": {
        "id": "8l6V3ARBk6ES"
      },
      "source": [
        "import pandas as pd\n",
        "import matplotlib.pyplot as plt\n",
        "from sklearn import linear_model"
      ],
      "execution_count": null,
      "outputs": []
    },
    {
      "cell_type": "code",
      "metadata": {
        "id": "AX4LoFxBoQSl",
        "colab": {
          "base_uri": "https://localhost:8080/",
          "height": 234
        },
        "outputId": "7bbecd5e-91ae-43a3-8641-b048aa2f961f"
      },
      "source": [
        "data=pd.read_csv('/content/Linear regression.csv')\n",
        "print(data)"
      ],
      "execution_count": null,
      "outputs": [
        {
          "output_type": "stream",
          "text": [
            "    NOU   NA\n",
            "0     1    8\n",
            "1     3   14\n",
            "2     7   26\n",
            "3     8   28\n",
            "4    12   42\n",
            "5    15   51\n",
            "6    17   56\n",
            "7    19   62\n",
            "8    24   75\n",
            "9    27   88\n",
            "10   31   98\n",
            "11   32  101\n"
          ],
          "name": "stdout"
        }
      ]
    },
    {
      "cell_type": "code",
      "metadata": {
        "id": "o7kPVTLLsn8F",
        "colab": {
          "base_uri": "https://localhost:8080/",
          "height": 33
        },
        "outputId": "fb344fee-e168-4a89-a9a4-94a0a25dd4b0"
      },
      "source": [
        "data.shape"
      ],
      "execution_count": null,
      "outputs": [
        {
          "output_type": "execute_result",
          "data": {
            "text/plain": [
              "(12, 2)"
            ]
          },
          "metadata": {
            "tags": []
          },
          "execution_count": 10
        }
      ]
    },
    {
      "cell_type": "code",
      "metadata": {
        "id": "KkG_DQMjtuKh",
        "colab": {
          "base_uri": "https://localhost:8080/",
          "height": 279
        },
        "outputId": "5ca808f3-4df4-440a-d79a-8ab8207e381d"
      },
      "source": [
        "data.plot(kind='scatter',x='NOU',y='NA')\n",
        "plt.show()\n"
      ],
      "execution_count": null,
      "outputs": [
        {
          "output_type": "display_data",
          "data": {
            "image/png": "[encoded data removed]",
            "text/plain": [
              "<Figure size 432x288 with 1 Axes>"
            ]
          },
          "metadata": {
            "tags": [],
            "needs_background": "light"
          }
        }
      ]
    },
    {
      "cell_type": "code",
      "metadata": {
        "id": "lfo6uQc2vArb",
        "colab": {
          "base_uri": "https://localhost:8080/",
          "height": 451
        },
        "outputId": "3e640575-15dc-4ebf-ec83-2b599521a0d5"
      },
      "source": [
        "NOU=pd.DataFrame(data['NOU'])\n",
        "NA=pd.DataFrame(data['NA'])\n",
        "print(NOU)\n",
        "print(NA)"
      ],
      "execution_count": null,
      "outputs": [
        {
          "output_type": "stream",
          "text": [
            "    NOU\n",
            "0     1\n",
            "1     3\n",
            "2     7\n",
            "3     8\n",
            "4    12\n",
            "5    15\n",
            "6    17\n",
            "7    19\n",
            "8    24\n",
            "9    27\n",
            "10   31\n",
            "11   32\n",
            "     NA\n",
            "0     8\n",
            "1    14\n",
            "2    26\n",
            "3    28\n",
            "4    42\n",
            "5    51\n",
            "6    56\n",
            "7    62\n",
            "8    75\n",
            "9    88\n",
            "10   98\n",
            "11  101\n"
          ],
          "name": "stdout"
        }
      ]
    },
    {
      "cell_type": "code",
      "metadata": {
        "id": "F4FNaz1swrNv",
        "colab": {
          "base_uri": "https://localhost:8080/",
          "height": 33
        },
        "outputId": "6a75e893-dda8-4b29-da81-c53b084ed781"
      },
      "source": [
        "model=linear_model.LinearRegression()\n",
        "model.fit(NOU,NA)"
      ],
      "execution_count": null,
      "outputs": [
        {
          "output_type": "execute_result",
          "data": {
            "text/plain": [
              "LinearRegression(copy_X=True, fit_intercept=True, n_jobs=None, normalize=False)"
            ]
          },
          "metadata": {
            "tags": []
          },
          "execution_count": 20
        }
      ]
    },
    {
      "cell_type": "code",
      "metadata": {
        "id": "mht3OB43wrRU",
        "colab": {
          "base_uri": "https://localhost:8080/",
          "height": 33
        },
        "outputId": "2b31fea5-5f37-4399-b237-565f48ce0854"
      },
      "source": [
        "model.coef_"
      ],
      "execution_count": null,
      "outputs": [
        {
          "output_type": "execute_result",
          "data": {
            "text/plain": [
              "array([[3.00704225]])"
            ]
          },
          "metadata": {
            "tags": []
          },
          "execution_count": 25
        }
      ]
    },
    {
      "cell_type": "code",
      "metadata": {
        "id": "d57UutCZyK2H",
        "colab": {
          "base_uri": "https://localhost:8080/",
          "height": 33
        },
        "outputId": "e26bd13a-7ffa-4d9f-d6fc-500f78d89ab0"
      },
      "source": [
        "model.intercept_"
      ],
      "execution_count": null,
      "outputs": [
        {
          "output_type": "execute_result",
          "data": {
            "text/plain": [
              "array([4.96830986])"
            ]
          },
          "metadata": {
            "tags": []
          },
          "execution_count": 26
        }
      ]
    },
    {
      "cell_type": "code",
      "metadata": {
        "id": "t6geV6fuyNFR",
        "colab": {
          "base_uri": "https://localhost:8080/",
          "height": 67
        },
        "outputId": "d3298081-8fdb-4eb5-e405-4dd9c1364453"
      },
      "source": [
        "NOU_new=[[12],[27],[34]]\n",
        "NA_pred=model.predict(NOU_new)\n",
        "print(NA_pred)"
      ],
      "execution_count": null,
      "outputs": [
        {
          "output_type": "stream",
          "text": [
            "[[ 41.0528169 ]\n",
            " [ 86.1584507 ]\n",
            " [107.20774648]]\n"
          ],
          "name": "stdout"
        }
      ]
    },
    {
      "cell_type": "code",
      "metadata": {
        "id": "KT_60ME8zRAG",
        "colab": {
          "base_uri": "https://localhost:8080/",
          "height": 265
        },
        "outputId": "30df795e-7ce6-45f2-b9a6-c981efe59d27"
      },
      "source": [
        "plt.scatter(NOU,NA)\n",
        "plt.plot(NOU,model.predict(NOU),color='green',linewidth=2)\n",
        "plt.show()"
      ],
      "execution_count": null,
      "outputs": [
        {
          "output_type": "display_data",
          "data": {
            "image/png": "[encoded data removed]",
            "text/plain": [
              "<Figure size 432x288 with 1 Axes>"
            ]
          },
          "metadata": {
            "tags": [],
            "needs_background": "light"
          }
        }
      ]
    },
    {
      "cell_type": "code",
      "metadata": {
        "id": "oZUBke6Z2Sfm"
      },
      "source": [
        "#multiple linear regression"
      ],
      "execution_count": null,
      "outputs": []
    }
  ]
}